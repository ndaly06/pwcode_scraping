{
 "cells": [
  {
   "cell_type": "code",
   "execution_count": 2,
   "metadata": {
    "collapsed": true
   },
   "outputs": [],
   "source": [
    "import json\n",
    "import numpy as np\n",
    "import pandas as pd\n",
    "from tika import parser"
   ]
  },
  {
   "cell_type": "code",
   "execution_count": 20,
   "metadata": {},
   "outputs": [
    {
     "data": {
      "text/html": [
       "<div>\n",
       "<style scoped>\n",
       "    .dataframe tbody tr th:only-of-type {\n",
       "        vertical-align: middle;\n",
       "    }\n",
       "\n",
       "    .dataframe tbody tr th {\n",
       "        vertical-align: top;\n",
       "    }\n",
       "\n",
       "    .dataframe thead th {\n",
       "        text-align: right;\n",
       "    }\n",
       "</style>\n",
       "<table border=\"1\" class=\"dataframe\">\n",
       "  <thead>\n",
       "    <tr style=\"text-align: right;\">\n",
       "      <th></th>\n",
       "      <th>dataset</th>\n",
       "      <th>extradata</th>\n",
       "      <th>global_rank</th>\n",
       "      <th>metric_name</th>\n",
       "      <th>metric_value</th>\n",
       "      <th>model</th>\n",
       "      <th>remove</th>\n",
       "      <th>task</th>\n",
       "      <th>paper_title</th>\n",
       "      <th>paper_path</th>\n",
       "      <th>paper_url</th>\n",
       "    </tr>\n",
       "  </thead>\n",
       "  <tbody>\n",
       "    <tr>\n",
       "      <th>0</th>\n",
       "      <td>IC15</td>\n",
       "      <td>NaN</td>\n",
       "      <td># 10</td>\n",
       "      <td>F-Measure</td>\n",
       "      <td>75.61%</td>\n",
       "      <td>SegLink</td>\n",
       "      <td>-</td>\n",
       "      <td>Scene Text Detection</td>\n",
       "      <td>Detecting Oriented Text in Natural Images by L...</td>\n",
       "      <td>/paper/detecting-oriented-text-in-natural-imag...</td>\n",
       "      <td>https://arxiv.org/pdf/1703.06520v3.pdf</td>\n",
       "    </tr>\n",
       "    <tr>\n",
       "      <th>1</th>\n",
       "      <td>SCUT-CTW1500</td>\n",
       "      <td>NaN</td>\n",
       "      <td># 5</td>\n",
       "      <td>F-Measure</td>\n",
       "      <td>40.8%</td>\n",
       "      <td>SegLink</td>\n",
       "      <td>-</td>\n",
       "      <td>Curved Text Detection</td>\n",
       "      <td>Detecting Oriented Text in Natural Images by L...</td>\n",
       "      <td>/paper/detecting-oriented-text-in-natural-imag...</td>\n",
       "      <td>https://arxiv.org/pdf/1703.06520v3.pdf</td>\n",
       "    </tr>\n",
       "    <tr>\n",
       "      <th>2</th>\n",
       "      <td>SNLI</td>\n",
       "      <td>NaN</td>\n",
       "      <td># 36</td>\n",
       "      <td>% Test Accuracy</td>\n",
       "      <td>84.6</td>\n",
       "      <td>300D NSE encoders</td>\n",
       "      <td>-</td>\n",
       "      <td>Natural Language Inference</td>\n",
       "      <td>Neural Semantic Encoders</td>\n",
       "      <td>/paper/neural-semantic-encoders</td>\n",
       "      <td>https://arxiv.org/pdf/1607.04315v3.pdf</td>\n",
       "    </tr>\n",
       "    <tr>\n",
       "      <th>3</th>\n",
       "      <td>SNLI</td>\n",
       "      <td>NaN</td>\n",
       "      <td># 44</td>\n",
       "      <td>% Train Accuracy</td>\n",
       "      <td>86.2</td>\n",
       "      <td>300D NSE encoders</td>\n",
       "      <td>-</td>\n",
       "      <td>Natural Language Inference</td>\n",
       "      <td>Neural Semantic Encoders</td>\n",
       "      <td>/paper/neural-semantic-encoders</td>\n",
       "      <td>https://arxiv.org/pdf/1607.04315v3.pdf</td>\n",
       "    </tr>\n",
       "    <tr>\n",
       "      <th>4</th>\n",
       "      <td>SNLI</td>\n",
       "      <td>NaN</td>\n",
       "      <td># 1</td>\n",
       "      <td>Parameters</td>\n",
       "      <td>3.0m</td>\n",
       "      <td>300D NSE encoders</td>\n",
       "      <td>-</td>\n",
       "      <td>Natural Language Inference</td>\n",
       "      <td>Neural Semantic Encoders</td>\n",
       "      <td>/paper/neural-semantic-encoders</td>\n",
       "      <td>https://arxiv.org/pdf/1607.04315v3.pdf</td>\n",
       "    </tr>\n",
       "  </tbody>\n",
       "</table>\n",
       "</div>"
      ],
      "text/plain": [
       "        dataset  extradata global_rank       metric_name metric_value  \\\n",
       "0          IC15        NaN        # 10         F-Measure       75.61%   \n",
       "1  SCUT-CTW1500        NaN         # 5         F-Measure        40.8%   \n",
       "2          SNLI        NaN        # 36   % Test Accuracy         84.6   \n",
       "3          SNLI        NaN        # 44  % Train Accuracy         86.2   \n",
       "4          SNLI        NaN         # 1        Parameters         3.0m   \n",
       "\n",
       "               model remove                        task  \\\n",
       "0            SegLink      -        Scene Text Detection   \n",
       "1            SegLink      -       Curved Text Detection   \n",
       "2  300D NSE encoders      -  Natural Language Inference   \n",
       "3  300D NSE encoders      -  Natural Language Inference   \n",
       "4  300D NSE encoders      -  Natural Language Inference   \n",
       "\n",
       "                                         paper_title  \\\n",
       "0  Detecting Oriented Text in Natural Images by L...   \n",
       "1  Detecting Oriented Text in Natural Images by L...   \n",
       "2                           Neural Semantic Encoders   \n",
       "3                           Neural Semantic Encoders   \n",
       "4                           Neural Semantic Encoders   \n",
       "\n",
       "                                          paper_path  \\\n",
       "0  /paper/detecting-oriented-text-in-natural-imag...   \n",
       "1  /paper/detecting-oriented-text-in-natural-imag...   \n",
       "2                    /paper/neural-semantic-encoders   \n",
       "3                    /paper/neural-semantic-encoders   \n",
       "4                    /paper/neural-semantic-encoders   \n",
       "\n",
       "                                paper_url  \n",
       "0  https://arxiv.org/pdf/1703.06520v3.pdf  \n",
       "1  https://arxiv.org/pdf/1703.06520v3.pdf  \n",
       "2  https://arxiv.org/pdf/1607.04315v3.pdf  \n",
       "3  https://arxiv.org/pdf/1607.04315v3.pdf  \n",
       "4  https://arxiv.org/pdf/1607.04315v3.pdf  "
      ]
     },
     "execution_count": 20,
     "metadata": {},
     "output_type": "execute_result"
    }
   ],
   "source": [
    "#\n",
    "data = pd.read_csv('../data/pw_code_model_data.csv')\n",
    "\n",
    "data.head()"
   ]
  },
  {
   "cell_type": "code",
   "execution_count": 37,
   "metadata": {},
   "outputs": [
    {
     "name": "stderr",
     "output_type": "stream",
     "text": [
      "/Users/nialdaly/Documents/pwcode_scraping/venv/lib/python3.6/site-packages/ipykernel_launcher.py:4: SettingWithCopyWarning: \n",
      "A value is trying to be set on a copy of a slice from a DataFrame.\n",
      "Try using .loc[row_indexer,col_indexer] = value instead\n",
      "\n",
      "See the caveats in the documentation: http://pandas.pydata.org/pandas-docs/stable/indexing.html#indexing-view-versus-copy\n",
      "  after removing the cwd from sys.path.\n"
     ]
    },
    {
     "data": {
      "text/html": [
       "<div>\n",
       "<style scoped>\n",
       "    .dataframe tbody tr th:only-of-type {\n",
       "        vertical-align: middle;\n",
       "    }\n",
       "\n",
       "    .dataframe tbody tr th {\n",
       "        vertical-align: top;\n",
       "    }\n",
       "\n",
       "    .dataframe thead th {\n",
       "        text-align: right;\n",
       "    }\n",
       "</style>\n",
       "<table border=\"1\" class=\"dataframe\">\n",
       "  <thead>\n",
       "    <tr style=\"text-align: right;\">\n",
       "      <th></th>\n",
       "      <th>dataset</th>\n",
       "      <th>extradata</th>\n",
       "      <th>global_rank</th>\n",
       "      <th>metric_name</th>\n",
       "      <th>metric_value</th>\n",
       "      <th>model</th>\n",
       "      <th>remove</th>\n",
       "      <th>task</th>\n",
       "      <th>paper_title</th>\n",
       "      <th>paper_path</th>\n",
       "      <th>paper_url</th>\n",
       "      <th>paper_text</th>\n",
       "    </tr>\n",
       "  </thead>\n",
       "  <tbody>\n",
       "    <tr>\n",
       "      <th>0</th>\n",
       "      <td>IC15</td>\n",
       "      <td>NaN</td>\n",
       "      <td># 10</td>\n",
       "      <td>F-Measure</td>\n",
       "      <td>75.61%</td>\n",
       "      <td>SegLink</td>\n",
       "      <td>-</td>\n",
       "      <td>Scene Text Detection</td>\n",
       "      <td>Detecting Oriented Text in Natural Images by L...</td>\n",
       "      <td>/paper/detecting-oriented-text-in-natural-imag...</td>\n",
       "      <td>https://arxiv.org/pdf/1703.06520v3.pdf</td>\n",
       "      <td>NaN</td>\n",
       "    </tr>\n",
       "  </tbody>\n",
       "</table>\n",
       "</div>"
      ],
      "text/plain": [
       "  dataset  extradata global_rank metric_name metric_value    model remove  \\\n",
       "0    IC15        NaN        # 10   F-Measure       75.61%  SegLink      -   \n",
       "\n",
       "                   task                                        paper_title  \\\n",
       "0  Scene Text Detection  Detecting Oriented Text in Natural Images by L...   \n",
       "\n",
       "                                          paper_path  \\\n",
       "0  /paper/detecting-oriented-text-in-natural-imag...   \n",
       "\n",
       "                                paper_url  paper_text  \n",
       "0  https://arxiv.org/pdf/1703.06520v3.pdf         NaN  "
      ]
     },
     "execution_count": 37,
     "metadata": {},
     "output_type": "execute_result"
    }
   ],
   "source": [
    "# adds a new column to dataframe\n",
    "test_df = data[:1]\n",
    "\n",
    "test_df['paper_text'] = np.nan\n",
    "\n",
    "test_df.head()"
   ]
  },
  {
   "cell_type": "code",
   "execution_count": 68,
   "metadata": {
    "collapsed": true
   },
   "outputs": [],
   "source": [
    "#\n",
    "paper_text_list = []\n",
    "\n",
    "# for index, row in test_df.iterrows():\n",
    "#     raw = parser.from_file(row['paper_url'])\n",
    "    \n",
    "# #     safe_text = raw.replace('\\\\', '\\\\\\\\').replace('\"', '\\\\\"')\n",
    "    \n",
    "#     paper_text_list.append(safe_text)\n",
    "    \n",
    "    \n",
    "#     print(row['paper_url'])\n",
    "    "
   ]
  },
  {
   "cell_type": "code",
   "execution_count": 3,
   "metadata": {},
   "outputs": [
    {
     "name": "stderr",
     "output_type": "stream",
     "text": [
      "2019-06-02 18:06:11,156 [MainThread  ] [INFO ]  Retrieving https://arxiv.org/pdf/1703.06520v3.pdf to /var/folders/1x/nph4r0452v1dk6t51bknf9080000gn/T/https-arxiv-org-pdf-1703-06520v3-pdf.\n"
     ]
    },
    {
     "ename": "KeyboardInterrupt",
     "evalue": "",
     "output_type": "error",
     "traceback": [
      "\u001b[0;31m---------------------------------------------------------------------------\u001b[0m",
      "\u001b[0;31mKeyboardInterrupt\u001b[0m                         Traceback (most recent call last)",
      "\u001b[0;32m<ipython-input-3-8f27777ca035>\u001b[0m in \u001b[0;36m<module>\u001b[0;34m\u001b[0m\n\u001b[1;32m      1\u001b[0m \u001b[0;31m#\u001b[0m\u001b[0;34m\u001b[0m\u001b[0;34m\u001b[0m\u001b[0m\n\u001b[0;32m----> 2\u001b[0;31m \u001b[0mcontent\u001b[0m \u001b[0;34m=\u001b[0m \u001b[0mparser\u001b[0m\u001b[0;34m.\u001b[0m\u001b[0mfrom_file\u001b[0m\u001b[0;34m(\u001b[0m\u001b[0;34m'https://arxiv.org/pdf/1703.06520v3.pdf'\u001b[0m\u001b[0;34m)\u001b[0m\u001b[0;34m\u001b[0m\u001b[0m\n\u001b[0m\u001b[1;32m      3\u001b[0m \u001b[0;34m\u001b[0m\u001b[0m\n\u001b[1;32m      4\u001b[0m \u001b[0mraw_text\u001b[0m \u001b[0;34m=\u001b[0m \u001b[0mcontent\u001b[0m\u001b[0;34m[\u001b[0m\u001b[0;34m'content'\u001b[0m\u001b[0;34m]\u001b[0m\u001b[0;34m\u001b[0m\u001b[0m\n\u001b[1;32m      5\u001b[0m \u001b[0;34m\u001b[0m\u001b[0m\n",
      "\u001b[0;32m~/Documents/pwcode_scraping/venv/lib/python3.6/site-packages/tika/parser.py\u001b[0m in \u001b[0;36mfrom_file\u001b[0;34m(filename, serverEndpoint, xmlContent, headers, config_path)\u001b[0m\n\u001b[1;32m     34\u001b[0m     '''\n\u001b[1;32m     35\u001b[0m     \u001b[0;32mif\u001b[0m \u001b[0;32mnot\u001b[0m \u001b[0mxmlContent\u001b[0m\u001b[0;34m:\u001b[0m\u001b[0;34m\u001b[0m\u001b[0m\n\u001b[0;32m---> 36\u001b[0;31m         \u001b[0mjsonOutput\u001b[0m \u001b[0;34m=\u001b[0m \u001b[0mparse1\u001b[0m\u001b[0;34m(\u001b[0m\u001b[0;34m'all'\u001b[0m\u001b[0;34m,\u001b[0m \u001b[0mfilename\u001b[0m\u001b[0;34m,\u001b[0m \u001b[0mserverEndpoint\u001b[0m\u001b[0;34m,\u001b[0m \u001b[0mheaders\u001b[0m\u001b[0;34m=\u001b[0m\u001b[0mheaders\u001b[0m\u001b[0;34m,\u001b[0m \u001b[0mconfig_path\u001b[0m\u001b[0;34m=\u001b[0m\u001b[0mconfig_path\u001b[0m\u001b[0;34m)\u001b[0m\u001b[0;34m\u001b[0m\u001b[0m\n\u001b[0m\u001b[1;32m     37\u001b[0m     \u001b[0;32melse\u001b[0m\u001b[0;34m:\u001b[0m\u001b[0;34m\u001b[0m\u001b[0m\n\u001b[1;32m     38\u001b[0m         jsonOutput = parse1('all', filename, serverEndpoint, services={'meta': '/meta', 'text': '/tika', 'all': '/rmeta/xml'},\n",
      "\u001b[0;32m~/Documents/pwcode_scraping/venv/lib/python3.6/site-packages/tika/tika.py\u001b[0m in \u001b[0;36mparse1\u001b[0;34m(option, urlOrPath, serverEndpoint, verbose, tikaServerJar, responseMimeType, services, rawResponse, headers, config_path)\u001b[0m\n\u001b[1;32m    318\u001b[0m     \u001b[0mheaders\u001b[0m \u001b[0;34m=\u001b[0m \u001b[0mheaders\u001b[0m \u001b[0;32mor\u001b[0m \u001b[0;34m{\u001b[0m\u001b[0;34m}\u001b[0m\u001b[0;34m\u001b[0m\u001b[0m\n\u001b[1;32m    319\u001b[0m \u001b[0;34m\u001b[0m\u001b[0m\n\u001b[0;32m--> 320\u001b[0;31m     \u001b[0mpath\u001b[0m\u001b[0;34m,\u001b[0m \u001b[0mfile_type\u001b[0m \u001b[0;34m=\u001b[0m \u001b[0mgetRemoteFile\u001b[0m\u001b[0;34m(\u001b[0m\u001b[0murlOrPath\u001b[0m\u001b[0;34m,\u001b[0m \u001b[0mTikaFilesPath\u001b[0m\u001b[0;34m)\u001b[0m\u001b[0;34m\u001b[0m\u001b[0m\n\u001b[0m\u001b[1;32m    321\u001b[0m     \u001b[0mheaders\u001b[0m\u001b[0;34m.\u001b[0m\u001b[0mupdate\u001b[0m\u001b[0;34m(\u001b[0m\u001b[0;34m{\u001b[0m\u001b[0;34m'Accept'\u001b[0m\u001b[0;34m:\u001b[0m \u001b[0mresponseMimeType\u001b[0m\u001b[0;34m,\u001b[0m \u001b[0;34m'Content-Disposition'\u001b[0m\u001b[0;34m:\u001b[0m \u001b[0mmake_content_disposition_header\u001b[0m\u001b[0;34m(\u001b[0m\u001b[0mpath\u001b[0m\u001b[0;34m)\u001b[0m\u001b[0;34m}\u001b[0m\u001b[0;34m)\u001b[0m\u001b[0;34m\u001b[0m\u001b[0m\n\u001b[1;32m    322\u001b[0m \u001b[0;34m\u001b[0m\u001b[0m\n",
      "\u001b[0;32m~/Documents/pwcode_scraping/venv/lib/python3.6/site-packages/tika/tika.py\u001b[0m in \u001b[0;36mgetRemoteFile\u001b[0;34m(urlOrPath, destPath)\u001b[0m\n\u001b[1;32m    688\u001b[0m         \u001b[0mlog\u001b[0m\u001b[0;34m.\u001b[0m\u001b[0minfo\u001b[0m\u001b[0;34m(\u001b[0m\u001b[0;34m'Retrieving %s to %s.'\u001b[0m \u001b[0;34m%\u001b[0m \u001b[0;34m(\u001b[0m\u001b[0murlOrPath\u001b[0m\u001b[0;34m,\u001b[0m \u001b[0mdestPath\u001b[0m\u001b[0;34m)\u001b[0m\u001b[0;34m)\u001b[0m\u001b[0;34m\u001b[0m\u001b[0m\n\u001b[1;32m    689\u001b[0m         \u001b[0;32mtry\u001b[0m\u001b[0;34m:\u001b[0m\u001b[0;34m\u001b[0m\u001b[0m\n\u001b[0;32m--> 690\u001b[0;31m             \u001b[0murlretrieve\u001b[0m\u001b[0;34m(\u001b[0m\u001b[0murlOrPath\u001b[0m\u001b[0;34m,\u001b[0m \u001b[0mdestPath\u001b[0m\u001b[0;34m)\u001b[0m\u001b[0;34m\u001b[0m\u001b[0m\n\u001b[0m\u001b[1;32m    691\u001b[0m         \u001b[0;32mexcept\u001b[0m \u001b[0mIOError\u001b[0m\u001b[0;34m:\u001b[0m\u001b[0;34m\u001b[0m\u001b[0m\n\u001b[1;32m    692\u001b[0m             \u001b[0;31m# monkey patch fix for SSL/Windows per Tika-Python #54\u001b[0m\u001b[0;34m\u001b[0m\u001b[0;34m\u001b[0m\u001b[0m\n",
      "\u001b[0;32m/Library/Frameworks/Python.framework/Versions/3.6/lib/python3.6/urllib/request.py\u001b[0m in \u001b[0;36murlretrieve\u001b[0;34m(url, filename, reporthook, data)\u001b[0m\n\u001b[1;32m    275\u001b[0m \u001b[0;34m\u001b[0m\u001b[0m\n\u001b[1;32m    276\u001b[0m             \u001b[0;32mwhile\u001b[0m \u001b[0;32mTrue\u001b[0m\u001b[0;34m:\u001b[0m\u001b[0;34m\u001b[0m\u001b[0m\n\u001b[0;32m--> 277\u001b[0;31m                 \u001b[0mblock\u001b[0m \u001b[0;34m=\u001b[0m \u001b[0mfp\u001b[0m\u001b[0;34m.\u001b[0m\u001b[0mread\u001b[0m\u001b[0;34m(\u001b[0m\u001b[0mbs\u001b[0m\u001b[0;34m)\u001b[0m\u001b[0;34m\u001b[0m\u001b[0m\n\u001b[0m\u001b[1;32m    278\u001b[0m                 \u001b[0;32mif\u001b[0m \u001b[0;32mnot\u001b[0m \u001b[0mblock\u001b[0m\u001b[0;34m:\u001b[0m\u001b[0;34m\u001b[0m\u001b[0m\n\u001b[1;32m    279\u001b[0m                     \u001b[0;32mbreak\u001b[0m\u001b[0;34m\u001b[0m\u001b[0m\n",
      "\u001b[0;32m/Library/Frameworks/Python.framework/Versions/3.6/lib/python3.6/http/client.py\u001b[0m in \u001b[0;36mread\u001b[0;34m(self, amt)\u001b[0m\n\u001b[1;32m    447\u001b[0m             \u001b[0;31m# Amount is given, implement using readinto\u001b[0m\u001b[0;34m\u001b[0m\u001b[0;34m\u001b[0m\u001b[0m\n\u001b[1;32m    448\u001b[0m             \u001b[0mb\u001b[0m \u001b[0;34m=\u001b[0m \u001b[0mbytearray\u001b[0m\u001b[0;34m(\u001b[0m\u001b[0mamt\u001b[0m\u001b[0;34m)\u001b[0m\u001b[0;34m\u001b[0m\u001b[0m\n\u001b[0;32m--> 449\u001b[0;31m             \u001b[0mn\u001b[0m \u001b[0;34m=\u001b[0m \u001b[0mself\u001b[0m\u001b[0;34m.\u001b[0m\u001b[0mreadinto\u001b[0m\u001b[0;34m(\u001b[0m\u001b[0mb\u001b[0m\u001b[0;34m)\u001b[0m\u001b[0;34m\u001b[0m\u001b[0m\n\u001b[0m\u001b[1;32m    450\u001b[0m             \u001b[0;32mreturn\u001b[0m \u001b[0mmemoryview\u001b[0m\u001b[0;34m(\u001b[0m\u001b[0mb\u001b[0m\u001b[0;34m)\u001b[0m\u001b[0;34m[\u001b[0m\u001b[0;34m:\u001b[0m\u001b[0mn\u001b[0m\u001b[0;34m]\u001b[0m\u001b[0;34m.\u001b[0m\u001b[0mtobytes\u001b[0m\u001b[0;34m(\u001b[0m\u001b[0;34m)\u001b[0m\u001b[0;34m\u001b[0m\u001b[0m\n\u001b[1;32m    451\u001b[0m         \u001b[0;32melse\u001b[0m\u001b[0;34m:\u001b[0m\u001b[0;34m\u001b[0m\u001b[0m\n",
      "\u001b[0;32m/Library/Frameworks/Python.framework/Versions/3.6/lib/python3.6/http/client.py\u001b[0m in \u001b[0;36mreadinto\u001b[0;34m(self, b)\u001b[0m\n\u001b[1;32m    491\u001b[0m         \u001b[0;31m# connection, and the user is reading more bytes than will be provided\u001b[0m\u001b[0;34m\u001b[0m\u001b[0;34m\u001b[0m\u001b[0m\n\u001b[1;32m    492\u001b[0m         \u001b[0;31m# (for example, reading in 1k chunks)\u001b[0m\u001b[0;34m\u001b[0m\u001b[0;34m\u001b[0m\u001b[0m\n\u001b[0;32m--> 493\u001b[0;31m         \u001b[0mn\u001b[0m \u001b[0;34m=\u001b[0m \u001b[0mself\u001b[0m\u001b[0;34m.\u001b[0m\u001b[0mfp\u001b[0m\u001b[0;34m.\u001b[0m\u001b[0mreadinto\u001b[0m\u001b[0;34m(\u001b[0m\u001b[0mb\u001b[0m\u001b[0;34m)\u001b[0m\u001b[0;34m\u001b[0m\u001b[0m\n\u001b[0m\u001b[1;32m    494\u001b[0m         \u001b[0;32mif\u001b[0m \u001b[0;32mnot\u001b[0m \u001b[0mn\u001b[0m \u001b[0;32mand\u001b[0m \u001b[0mb\u001b[0m\u001b[0;34m:\u001b[0m\u001b[0;34m\u001b[0m\u001b[0m\n\u001b[1;32m    495\u001b[0m             \u001b[0;31m# Ideally, we would raise IncompleteRead if the content-length\u001b[0m\u001b[0;34m\u001b[0m\u001b[0;34m\u001b[0m\u001b[0m\n",
      "\u001b[0;32m/Library/Frameworks/Python.framework/Versions/3.6/lib/python3.6/socket.py\u001b[0m in \u001b[0;36mreadinto\u001b[0;34m(self, b)\u001b[0m\n\u001b[1;32m    584\u001b[0m         \u001b[0;32mwhile\u001b[0m \u001b[0;32mTrue\u001b[0m\u001b[0;34m:\u001b[0m\u001b[0;34m\u001b[0m\u001b[0m\n\u001b[1;32m    585\u001b[0m             \u001b[0;32mtry\u001b[0m\u001b[0;34m:\u001b[0m\u001b[0;34m\u001b[0m\u001b[0m\n\u001b[0;32m--> 586\u001b[0;31m                 \u001b[0;32mreturn\u001b[0m \u001b[0mself\u001b[0m\u001b[0;34m.\u001b[0m\u001b[0m_sock\u001b[0m\u001b[0;34m.\u001b[0m\u001b[0mrecv_into\u001b[0m\u001b[0;34m(\u001b[0m\u001b[0mb\u001b[0m\u001b[0;34m)\u001b[0m\u001b[0;34m\u001b[0m\u001b[0m\n\u001b[0m\u001b[1;32m    587\u001b[0m             \u001b[0;32mexcept\u001b[0m \u001b[0mtimeout\u001b[0m\u001b[0;34m:\u001b[0m\u001b[0;34m\u001b[0m\u001b[0m\n\u001b[1;32m    588\u001b[0m                 \u001b[0mself\u001b[0m\u001b[0;34m.\u001b[0m\u001b[0m_timeout_occurred\u001b[0m \u001b[0;34m=\u001b[0m \u001b[0;32mTrue\u001b[0m\u001b[0;34m\u001b[0m\u001b[0m\n",
      "\u001b[0;32m/Library/Frameworks/Python.framework/Versions/3.6/lib/python3.6/ssl.py\u001b[0m in \u001b[0;36mrecv_into\u001b[0;34m(self, buffer, nbytes, flags)\u001b[0m\n\u001b[1;32m   1007\u001b[0m                   \u001b[0;34m\"non-zero flags not allowed in calls to recv_into() on %s\"\u001b[0m \u001b[0;34m%\u001b[0m\u001b[0;34m\u001b[0m\u001b[0m\n\u001b[1;32m   1008\u001b[0m                   self.__class__)\n\u001b[0;32m-> 1009\u001b[0;31m             \u001b[0;32mreturn\u001b[0m \u001b[0mself\u001b[0m\u001b[0;34m.\u001b[0m\u001b[0mread\u001b[0m\u001b[0;34m(\u001b[0m\u001b[0mnbytes\u001b[0m\u001b[0;34m,\u001b[0m \u001b[0mbuffer\u001b[0m\u001b[0;34m)\u001b[0m\u001b[0;34m\u001b[0m\u001b[0m\n\u001b[0m\u001b[1;32m   1010\u001b[0m         \u001b[0;32melse\u001b[0m\u001b[0;34m:\u001b[0m\u001b[0;34m\u001b[0m\u001b[0m\n\u001b[1;32m   1011\u001b[0m             \u001b[0;32mreturn\u001b[0m \u001b[0msocket\u001b[0m\u001b[0;34m.\u001b[0m\u001b[0mrecv_into\u001b[0m\u001b[0;34m(\u001b[0m\u001b[0mself\u001b[0m\u001b[0;34m,\u001b[0m \u001b[0mbuffer\u001b[0m\u001b[0;34m,\u001b[0m \u001b[0mnbytes\u001b[0m\u001b[0;34m,\u001b[0m \u001b[0mflags\u001b[0m\u001b[0;34m)\u001b[0m\u001b[0;34m\u001b[0m\u001b[0m\n",
      "\u001b[0;32m/Library/Frameworks/Python.framework/Versions/3.6/lib/python3.6/ssl.py\u001b[0m in \u001b[0;36mread\u001b[0;34m(self, len, buffer)\u001b[0m\n\u001b[1;32m    869\u001b[0m             \u001b[0;32mraise\u001b[0m \u001b[0mValueError\u001b[0m\u001b[0;34m(\u001b[0m\u001b[0;34m\"Read on closed or unwrapped SSL socket.\"\u001b[0m\u001b[0;34m)\u001b[0m\u001b[0;34m\u001b[0m\u001b[0m\n\u001b[1;32m    870\u001b[0m         \u001b[0;32mtry\u001b[0m\u001b[0;34m:\u001b[0m\u001b[0;34m\u001b[0m\u001b[0m\n\u001b[0;32m--> 871\u001b[0;31m             \u001b[0;32mreturn\u001b[0m \u001b[0mself\u001b[0m\u001b[0;34m.\u001b[0m\u001b[0m_sslobj\u001b[0m\u001b[0;34m.\u001b[0m\u001b[0mread\u001b[0m\u001b[0;34m(\u001b[0m\u001b[0mlen\u001b[0m\u001b[0;34m,\u001b[0m \u001b[0mbuffer\u001b[0m\u001b[0;34m)\u001b[0m\u001b[0;34m\u001b[0m\u001b[0m\n\u001b[0m\u001b[1;32m    872\u001b[0m         \u001b[0;32mexcept\u001b[0m \u001b[0mSSLError\u001b[0m \u001b[0;32mas\u001b[0m \u001b[0mx\u001b[0m\u001b[0;34m:\u001b[0m\u001b[0;34m\u001b[0m\u001b[0m\n\u001b[1;32m    873\u001b[0m             \u001b[0;32mif\u001b[0m \u001b[0mx\u001b[0m\u001b[0;34m.\u001b[0m\u001b[0margs\u001b[0m\u001b[0;34m[\u001b[0m\u001b[0;36m0\u001b[0m\u001b[0;34m]\u001b[0m \u001b[0;34m==\u001b[0m \u001b[0mSSL_ERROR_EOF\u001b[0m \u001b[0;32mand\u001b[0m \u001b[0mself\u001b[0m\u001b[0;34m.\u001b[0m\u001b[0msuppress_ragged_eofs\u001b[0m\u001b[0;34m:\u001b[0m\u001b[0;34m\u001b[0m\u001b[0m\n",
      "\u001b[0;32m/Library/Frameworks/Python.framework/Versions/3.6/lib/python3.6/ssl.py\u001b[0m in \u001b[0;36mread\u001b[0;34m(self, len, buffer)\u001b[0m\n\u001b[1;32m    629\u001b[0m         \"\"\"\n\u001b[1;32m    630\u001b[0m         \u001b[0;32mif\u001b[0m \u001b[0mbuffer\u001b[0m \u001b[0;32mis\u001b[0m \u001b[0;32mnot\u001b[0m \u001b[0;32mNone\u001b[0m\u001b[0;34m:\u001b[0m\u001b[0;34m\u001b[0m\u001b[0m\n\u001b[0;32m--> 631\u001b[0;31m             \u001b[0mv\u001b[0m \u001b[0;34m=\u001b[0m \u001b[0mself\u001b[0m\u001b[0;34m.\u001b[0m\u001b[0m_sslobj\u001b[0m\u001b[0;34m.\u001b[0m\u001b[0mread\u001b[0m\u001b[0;34m(\u001b[0m\u001b[0mlen\u001b[0m\u001b[0;34m,\u001b[0m \u001b[0mbuffer\u001b[0m\u001b[0;34m)\u001b[0m\u001b[0;34m\u001b[0m\u001b[0m\n\u001b[0m\u001b[1;32m    632\u001b[0m         \u001b[0;32melse\u001b[0m\u001b[0;34m:\u001b[0m\u001b[0;34m\u001b[0m\u001b[0m\n\u001b[1;32m    633\u001b[0m             \u001b[0mv\u001b[0m \u001b[0;34m=\u001b[0m \u001b[0mself\u001b[0m\u001b[0;34m.\u001b[0m\u001b[0m_sslobj\u001b[0m\u001b[0;34m.\u001b[0m\u001b[0mread\u001b[0m\u001b[0;34m(\u001b[0m\u001b[0mlen\u001b[0m\u001b[0;34m)\u001b[0m\u001b[0;34m\u001b[0m\u001b[0m\n",
      "\u001b[0;31mKeyboardInterrupt\u001b[0m: "
     ]
    }
   ],
   "source": [
    "#\n",
    "content = parser.from_file('https://arxiv.org/pdf/1703.06520v3.pdf')\n",
    "\n",
    "raw_text = content['content']\n",
    "\n",
    "text = str(raw_text)\n",
    "\n",
    "text"
   ]
  },
  {
   "cell_type": "code",
   "execution_count": null,
   "metadata": {
    "collapsed": true
   },
   "outputs": [],
   "source": []
  },
  {
   "cell_type": "code",
   "execution_count": 1,
   "metadata": {},
   "outputs": [],
   "source": [
    "#  # ensure text is utf-8 formatted\n",
    "# safe_text2 = text.encode('utf-8', errors='ignore')\n",
    "\n",
    "# safe_text2"
   ]
  },
  {
   "cell_type": "code",
   "execution_count": null,
   "metadata": {
    "collapsed": true
   },
   "outputs": [],
   "source": []
  },
  {
   "cell_type": "code",
   "execution_count": 63,
   "metadata": {},
   "outputs": [
    {
     "data": {
      "text/plain": [
       "'                                                  Detecting Oriented Text in Natural Images by Linking Segments  Baoguang Shi1 Xiang Bai1∗ Serge Belongie2 1School of EIC, Huazhong University of Science and Technology  2Department of Computer Science, Cornell Tech shibaoguang@gmail.com xbai@hust.edu.cn sjb344@cornell.edu  Abstract  Most state-of-the-art text detection methods are specific to horizontal Latin text and are not fast enough for real-time applications. We introduce Segment Linking (SegLink), an oriented text detection method. The main idea is to decom- pose text into two locally detectable elements, namely seg- ments and links. A segment is an oriented box covering a part of a word or text line; A link connects two adjacent segments, indicating that they belong to the same word or text line. Both elements are detected densely at multiple scales by an end-to-end trained, fully-convolutional neural network. Final detections are produced by combining seg- ments connected by links. Compared with previous meth- ods, SegLink improves along the dimensions of accuracy, speed, and ease of training. It achieves an f-measure of 75.0% on the standard ICDAR 2015 Incidental (Challenge 4) benchmark, outperforming the previous best by a large margin. It runs at over 20 FPS on 512×512 images. More- over, without modification, SegLink is able to detect long lines of non-Latin text, such as Chinese.  1. Introduction  Reading text in natural images is a challenging task un- der active research. It is driven by many real-world appli- cations, such as Photo OCR [2], geo-location, and image retrieval [9]. In a text reading system, text detection, i.e. localizing text with bounding boxes of words or text lines, is usually the first step of great significance. In a sense, text detection can be seen as object detection applied to text, where words/characters/text lines are taken as the detection targets. Owing to this, a new trend has emerged recently that state-of-the-art text detection methods [9, 6, 22, 30] are heavily based on the advanced general object detection or segmentation techniques, e.g. [4, 5, 15].  Despite the great success of the previous work, we ar- gue that the general detection methods are not well suited  ∗Corresponding author.  (a) (b) (c)  (d) (e) (f)  Figure 1. SegLink Overview. The upper row shows an image with two words of different scales and orientations. (a) Segments (yellow boxes) are detected on the image. (b) Links (green lines) are detected between pairs of adjacent segments. (c) Segments connected by links are combined into whole words. (d-f) SegLink is able to detect long lines of Latin and non-Latin text, such as Chinese.  for text detection, for two main reasons. First, word/text line bounding boxes have much larger aspect ratios than those of general objects. An (fast/faster) R-CNN [5, 4, 19]- or SSD [14]-style detector may suffer from the difficulty of producing such boxes, owing to its proposal or anchor box design. In addition, some non-Latin text does not have blank spaces between words, hence the even larger bound- ing box aspect ratios, which make the problem worse. Sec- ond, unlike general objects, text usually has a clear defini- tion of orientation [25]. It is important for a text detector to produce oriented boxes. However, most general object de- tection methods are not designed to produce oriented boxes.  To overcome the above challenges, we tackle the text de- tection problem in a new perspective. We propose to de- compose long text into two smaller and locally-detectable elements, namely segment and link. As illustrated in Fig. 1, a segment is an oriented box that covers a part of a word  ar X  iv :1  70 3.  06 52  0v 3    [ cs  .C V  ]   1  3  A  pr  2  01 7    64  512  VGG16  through  pool5  conv 4_3  Input Image (512x512)  32  1024  conv7 (fc7)  16  1024  conv 8_2  8  512  conv 9_2 conv  10_24 conv11  Combining  Segments  Detections  256  2  256  𝑙 = 1 𝑙 = 6𝑙 = 2 𝑙 = 3 𝑙 = 4 𝑙 = 5  3x3 conv  predictors  1024,k3s1 1024,k1s1  256,k1s1 512,k3s2  128,k1s1 256,k3s2  128,k1s1 256,k3s2  256,k3s2  Figure 2. Network Architecture. The network consists of convolutional feature layers (shown as gray blocks) and convolutional predictors (thin gray arrows). Convolutional filters are specified in the format of “(#filters),k(kernel size)s(stride)”. A multi-line filter specification means a hidden layer between. Segments (yellow boxes) and links (not displayed) are detected by convolutional predictors on multiple feature layers (indexed by l = 1 . . . 6) and combined into whole words by a combining algorithm.  (for clarity we use “word” here and later on, but segments also work seamlessly on text lines that comprise multiple words); A link connects a pair of adjacent segments, indi- cating that they belong to the same word. Under the above definitions, a word is located by a number of segments with links between them. During detection, segments and links are densely detected on an input image by a convo- lutional neural network. Then, the segments are combined into whole words according to the links.  The key advantage of this approach is that long and ori- ented text is now detected locally since both basic elements are locally-detectable: Detecting a segment does not require the whole word to be observed. And neither does a link since the connection of two segments can be inferred from a local context. Thereafter, we can detect text of any length and orientation with great flexibility and efficiency.  Concretely, we propose a convolutional neural network (CNN) model to detect both segments and links simultane- ously, in a fully-convolutional manner. The network uses VGG-16 [21] as its backbone. A few extra feature lay- ers are added onto it. Convolutional predictors are added to 6 of the feature layers to detect segments and links at different scales. To deal with redundant detections, we in- troduce two types of links, namely within-layer links and cross-layer links. A within-layer link connects a segment to its neighbors on the same layer. A cross-layer link, on the other hand, connects a segment to its neighbors on the lower layer. In this way, we connect segments of adjacent locations as well as scales. Finally, we find connected seg- ments with a depth-first search (DFS) algorithm and com- bine them into whole words.  Our main contribution is the novel segment-linking de-  tection method. Through experiments, we show that the proposed method possesses several distinctive advantages over the other state-of-the-art methods: 1) Robustness: SegLink models the structure of oriented text in a simple and elegant way, with robustness against complex back- grounds. Our method achieves highly competitive results on standard datasets. In particular, it outperforms the previ- ous best by a large margin in terms of f-measure (75.0% vs 64.8%) on the ICDAR 2015 Incidental (Challenge 4) bench- mark [12]; 2) Efficiency: SegLink is highly efficient due to its single-pass, fully-convolutional design. It processes more than 20 images of 512x512 size per second; 3) Gener- ality: Without modification, SegLink is able to detect long lines of non-Latin text, such as Chinese. We demonstrate this capability on a multi-lingual dataset.  2. Related Work  Text Detection Over the past few years, much research effort has been devoted to the text detection problem [24, 23, 17, 17, 25, 7, 8, 30, 29, 2, 9, 6, 22, 26]. Based on the ba- sic detection targets, the previous methods can be roughly divided into three categories: character-based, word-based and line-based. Character-based methods [17, 23, 24, 10, 7, 8] detect individual characters and group them into words. These methods find characters by classifying candidate re- gions extracted by region extraction algorithms or by classi- fying sliding windows. Such methods often involve a post- processing step of grouping characters into words. Word- based methods [9, 6] directly detect word bounding boxes. They often have a similar pipeline to the recent CNN-based general object detection networks. Though achieving ex- cellent detection accuracies, these methods may suffer from    performance drop when applied to some non-Latin text such as Chinese, as we mentioned earlier. Line-based meth- ods [29, 30, 26] find text regions using some image seg- mentation algorithms. They also require a sophisticated post-processing step of word partitioning and/or false pos- itive removal. Compared with the previous approaches, our method predicts segments and links jointly in a single forward network pass. The pipeline is much simpler and cleaner. Moreover, the network is end-to-end trainable.  Our method is similar in spirit to a recent work [22], which detects text lines by finding and grouping a sequence of fine-scale text proposals through a CNN coupled with recurrent neural layers. In contrast, we detect oriented seg- ments only using convolutional layers, yielding better flexi- bility and faster speed. Also, we detect links explicitly using the same strong CNN features for segments, improving the robustness.  Object Detection Text detection can be seen as a partic- ular instance of general object detection, which is a funda- mental problem in computer vision. Most state-of-the-art detection systems either classify some class-agnostic ob- ject proposals with CNN [5, 4, 19] or directly regress ob- ject bounding boxes from a set of preset boxes (e.g. anchor boxes) [18, 14].  The architecture of our network inherits that of SSD [14], a recent object detection model. SSD proposed the idea of detecting objects on multiple feature layers with convolu- tional predictors. Our model also detects segments and links in a very similar way. Despite the model similarity, our de- tection strategy is drastically different: SSD directly out- puts object bounding boxes. We, on the other hand, adopt a bottom-up approach by detecting the two comprising ele- ments of a word or text line and combine them together.  3. Segment Linking Our method detects text with a feed-forward CNN  model. Given an input image I of size wI × hI , the model outputs a fixed number of segments and links, which are then filtered by their confidence scores and combined into whole word bounding boxes. A bounding box is a ro- tated rectangle denoted by b = (xb, yb, wb, hb, θb), where xb, yb are the coordinates of the center, wb, hb the width and height, and θb the rotation angle.  3.1. CNN Model  Fig. 2 shows the network architecture. Our network uses a pretrained VGG-16 network [21] as its backbone (conv1 through pool5). Following [14], the fully-connected layers of VGG-16 are converted into convolutional layers (fc6 to conv6; fc7 to conv7). They are followed by a few extra con- volutional layers (conv8 1 to conv11), which extract even  deeper features with larger receptive fields. Their configu- rations are specified in Fig. 2.  Segments and links are detected on 6 of the feature lay- ers, which are conv4 3, conv7, conv8 2, conv9 2, conv10 2, and conv11. These feature layers provide high-quality deep features of different granularity (conv4 3 the finest and conv11 the coarsest). A convolutional predictor with 3 × 3 kernels is added to each of the 6 layers to detect segments and links. We index the feature layers and the predictors by l = 1, . . . , 6.  Segment Detection Segments are also oriented boxes, de- noted by s = (xs, ys, ws, hs, θs). We detect segments by estimating the confidence scores and geometric offsets to a set of default boxes [14] on the input image. Each default box is associated with a feature map location, and its score and offsets are predicted from the features at that location. For simplicity, we only associate one default box with a fea- ture map location.  Consider the l-th feature layer whose feature map size is wl × hl. A location (x, y) on this map corresponds to a default box centered at (xa, ya) on the image, where  xa = wI wl  (x+ 0.5); ya = hI hl  (y + 0.5) (1)  The width and height of the default box are both set to a constant al.  The convolutional predictor produces 7 channels for segment detection. Among them, 2 channels are further softmax-normalized to get the segment score in (0, 1). The rest 5 are the geometric offsets. Considering a location (x, y) on the map, we denote the vector at this location along the depth by (∆xs, ∆ys, ∆ws, ∆hs, ∆θs). Then, the segment at this location is calculated by:  xs = al∆xs + xa (2) ys = al∆ys + ya (3) ws = al exp(∆ws) (4) hs = al exp(∆hs) (5) θs = ∆θs (6)  Here, the constant al controls the scale of the output seg- ments. It should be chosen with regard to the receptive field size of the l-th layer. We use an empirical equation for choosing this size: al = γ wIwl , where γ = 1.5.  Within-Layer Link Detection A link connects a pair of adjacent segments, indicating that they belong to the same word. Here, adjacent segments are those detected at adja- cent feature map locations. Links are not only necessary for combining segments into whole words but also helpful for separating two nearby words – between two nearby words, the links should be predicted as negative.    (a) Within- Layer Links  (b) Cross- Layer Links  2x  size  conv8_2  conv8_2  conv9_2  16  8  16  Figure 3. Within-Layer and Cross-Layer Links. (a) A location on conv8 2 (yellow block) and its 8-connected neighbors (blue blocks with and without fill). The detected within-layer links (green lines) connect a segment (yellow box) and its two neigh- boring segments (blue boxes) on the same layer. (b) The cross- layer links connect a segment on conv9 2 (yellow box) and two segments on conv8 2 (blue boxes).  We explicitly detect links between segments using the same features for detecting segments. Since we detect only one segment at a feature map location, segments can be indexed by their map locations (x, y) and layer indexes l, denoted by s(x,y,l). As illustrated in Fig. 3.a, we define the within-layer neighbors of a segment as its 8-connected neighbors on the same feature layer:  Nws(x,y,l) = {s (x′,y′,l)}x−1≤x′≤x+1,y−1≤y′≤y+1 \\\\ s(x,y,l)  (7)  As segments are detected locally, a pair of neighboring seg- ments are also adjacent on input image. Links are also de- tected by the convolutional predictors. A predictor outputs 16 channels for the links to the 8-connected neighboring segments. Every 2 channels are softmax-normalized to get the score of a link.  Cross-Layer Link Detection In our network, segments are detected at different scales on different feature layers. Each layer handles a range of scales. We make these ranges overlap in order not to miss scales at their edges. But as a result, segments of the same word could be detected on multiple layers at the same time, producing redundancies.  To address this problem, we further propose another type of links, called cross-layer links. A cross-layer link connects segments on two feature layers with adjacent in- dexes. For example, cross-layer links are detected between conv4 3 and conv7, because their indexes are l = 1 and l = 2 respectively.  An important property of such a pair is that the first layer always has twice the size as the second one, because of the  down-sampling layer (max-pooling or stride-2 convolution) between them. Note that this property only holds when all feature layers have even-numbered sizes. In practice, we ensured this property by having the width and height of the input image both dividable by 128. For example, an 1000× 800 image is resized to 1024 × 768, which is the nearest valid size.  As illustrated in Fig. 3.b, we define the cross-layer neighbors of a segment as  (8)N cs(x,y,l) = {s (x′,y′,l−1)}2x≤x′≤2x+1,2y≤y′≤2y+1,  which are the segments on the preceeding layer. Every seg- ment has 4 cross-layer neighbors. The correspondence is ensured by the double-size relationship between the two layers.  Again, cross-layer links are detected by the convolu- tional predictor. The predictor outputs 8 channels for cross- layer links. Every 2 channels are softmax-normalized to produce the score of a cross-layer link. Cross-layer links are detected on feature layer l = 2 . . . 6, but not on l = 1 (conv4 3) since it has no preceeding feature layer.  With cross-layer links, segments of different scales can be connected and later combined. Compared with the tradi- tional non-maximum suppression, cross-layer linking pro- vides a trainable way of joining redundancies. Besides, it fits seamlessly into our linking strategy and is easy to im- plement under our framework.  segment  scores  segment  offsets  within-layer  link scores  cross-layer  link scores  2 5 16 8 𝑤\"  ℎ\"  Figure 4. Output channels of a convolutional predictor. The block shows a wl × hl map of depth 31. The predictor of l = 1 does not output the channels for corss-layer links.  Outputs of a Convolutional Predictor Putting things to- gether, Fig. 4 shows the output channels of a convolutional predictor. A predictor is implemented by a convolutional layer followed by some softmax layers that normalize the segment and link scores respectively. Thereafter, all lay- ers in our network are convolutional layers. Our network is fully-convolutional.  3.2. Combining Segments with Links  After feed-forwarding, the network produces a number of segments and links (the number depends on the image size). Before combination, the output segments and links are filtered by their confidence scores. We set different fil- tering thresholds for segment and link, respectively α and β.    Empirically, the performance of our model is not very sensi- tive to these thresholds. A 0.1 deviation on either thresholds from their optimal values results in less than 1% f-measure drop.  Taking the filtered segments as nodes and the filtered links as edges, we construct a graph over them. Then, a depth-first search (DFS) is performed over the graph to find its connected components. Each component contains a set of segments that are connected by links. Denoting a con- nected component by B, segments within this component are combined following the procedures in Alg. 1.  Algorithm 1 Combining Segments  1: Input: B = {s(i)}|B|i=1 is a set of segments connected by links, where s(i) = (x(i)s , y  (i) s , w  (i) s , h  (i) s , θ  (i) s ).  2: Find the average angle θb := 1|B| ∑ B θ  (i) s .  3: For a straight line (tan θb)x + b, find the b that min- imizes the sum of distances to all segment centers (x  (i) s , y  (i) s ).  4: Find the perpendicular projections of all segment cen- ters onto the straight line.  5: From the projected points, find the two with the longest distance. Denote them by (xp, yp) and (xq, yq).  6: xb := 1 2 (xp + xq)  7: yb := 1 2 (yp + yq)  8: wb := √  (xp − xq)2 + (yp − yq)2 + 12 (wp + wq) 9: hb :=  1 |B|  ∑ B h  (i) s  10: b := (xb, yb, wb, hb, θb)  11: Output: b is the combined bounding box.  4. Training 4.1. Groundtruths of Segments and Links  The network is trained by the direct supervision of groundtruth segments and links. The groundtruths include the labels of all default boxes (i.e. the label of their corre- sponding segments), their offsets to the default boxes, and the labels of all within- and cross-layer links. We calculate them from the groundtruth word bounding boxes.  First, we assume that there is only one groundtruth word on the input image. A default box is labeled as positive iff 1) the center of the box is inside the word bounding box; 2) the ratio between the box size al and the word height h satisfies:  max( al h , h  al ) ≤ 1.5 (9)  Otherwise, the default box is labeled as negative. Next, we consider the case of multiple words. A default  box is labeled as negative if it does not meet the above- mentioned criteria for any word. Otherwise, it is labeled as  positive and matched to the word that has the closest size, i.e. the one with the minimal value at the left-hand side of Eq. 9.  word  bounding box  default box  box center  𝜃  (1) Default box, word bounding box, and  the center of the default box (blue dot)  (2) Rotate word clockwise by 𝜃 along  the center of the default box  (3) Crop word bounding box to remove  the parts to the left and right of the  default box  (4) Rotate the cropped box  anticlockwise by 𝜃 along the center of  the default box  𝑎  ℎ  𝑤% \\t groundtruth   segment  ℎ%\\t 𝑥%, 𝑦%  Figure 5. The steps of calculating a groundtruth segment given a default box and a word bounding box.  Offsets are calculated on positive default boxes. First, we calculate the groundtruth segments following the steps illustrated in Fig. 5. Then, we solve Eq. 2 to Eq. 6 to get the groundtruth offsets.  A link (either within-layer or cross-layer) is labeled as positive iff 1) both of the default boxes connected to it are labeled as positive; 2) the two default boxes are matched to the same word.  4.2. Optimization  Objective Our network model is trained by simultane- ously minimizing the losses on segment classification, off- sets regression, and link classification. Overall, the loss function is a weighted sum of the three losses:  L(ys, cs,yl, cl, ŝ, s) = 1  Ns Lconf(ys, cs)+λ1  1  Ns Lloc(ŝ, s)  + λ2 1  Nl Lconf(yl, cl)  (10)  Here, ys is the labels of all segments. y (i) s = 1 if the i-th  default box is labeled as positive, and 0 otherwise. Like- wise, yl is the labels of the links. Lconf is the softmax loss over the predicted segment and link scores, respectively cs and cl. Lloc is the Smooth L1 regression loss [4] over the predicted segment geometries ŝ and the groundtruth s. The losses on segment classification and regression are normal- ized by Ns, which is the number of positive default boxes. The loss on link classification is normalized by the number of positive links Nl. The weight constants λ1 and λ2 are both set to 1 in practice.    Online Hard Negative Mining For both segments and links, negatives take up most of the training samples. There- fore, hard negative mining is necessary for balancing the positive and negative samples. We follow the online hard negative mining strategy proposed in [20] to keep the ra- tio between the negatives and positives 3:1 at most. Hard negative mining is performed separately for segments and links.  Data Augmentation We adopt an online augmentation pipeline that is similar to that of SSD [14] and YOLO [18]. Training images are randomly cropped to a patch that has a minimum Jaccard overlap of o with any groundtruth word Crops are resized to the same size before loaded into a batch. For oriented text, the augmentation is performed on the axis-aligned bounding boxes of the words. The overlap o is randomly chosen from 0 (no constraint), 0.1, 0.3, 0.5, 0.7, and 0.9 for every sample. The crop size is randomly chosen from [0.1, 1] of the original image size. Training images are not horizontally flipped.  5. Experiments  In this section, we evaluate the proposed method on three public datasets, namely ICDAR 2015 Incidental Text (Chal- lenge 4), MSRA-TD500, and ICDAR 2013, using the stan- dard evaluation protocol of each.  5.1. Datasets  SynthText in the Wild (SynthText) [6] contains 800,000 synthetic training images. They are created by blending nat- ural images with text rendered with random fonts, size, ori- entation, and color. Text is rendered and aligned to care- fully chosen image regions in order have a realistic look. The dataset provides very detailed annotations for charac- ters, words, and text lines. We only use the dataset for pre- training our network.  ICDAR 2015 Incidental Text (IC15) [12] is the Chal- lenge 4 of the ICDAR 2015 Robust Reading Competition. This challenge features incidental scene text images taken by Google Glasses without taking care of positioning, im- age quality, and viewpoint. Consequently, the dataset ex- hibits large variations in text orientation, scale, and res- olution, making it much more difficult than previous IC- DAR challenges. The dataset contains 1000 training images and 500 testing images. Annotations are provided as word quadrilaterals.  MSRA-TD500 (TD500) [25] is the first standard dataset that focuses on oriented text. The dataset is also multi- lingual, including both Chinese and English text. The  dataset consists of 300 training images and 200 testing im- ages. Different from IC15, TD500 is annotated at the level of text lines.  ICDAR 2013 (IC13) [13] contains mostly horizontal text, with some text slightly oriented. The dataset has been widely adopted for evaluating text detection methods pre- viously. It consists of 229 training images and 233 testing images.  5.2. Implementation Details  Our network is pre-trained on SynthText and finetuned on real datasets (specified later). It is optimized by the stan- dard SGD algorithm with a momentum of 0.9. For both pre- training and finetuning, images are resized to 384×384 after random cropping. Since our model is fully-convolutional, we can train it on a certain size and apply it to other sizes during testing. Batch size is set to 32. In pretraining, the learning is set to 10−3 for the first 60k iterations, then de- cayed to 10−4 for the rest 30k iterations. During finetuning, the learning rate is fixed to 10−4 for 5-10k iterations. The number of finetuning iterations depends on the size of the dataset.  Due to the precision-recall tradeoff and the difference between evaluation protocols across datasets, we choose the best thresholds α and β to optimize f-measure. Except for IC15, the thresholds are chosen separately on different datasets via a grid search with 0.1 step on a hold-out vali- dation set. IC15 does not offer an offline evaluation script, so the only way for us is to submit multiple results to the evaluation server.  Our method is implemented using TensorFlow [1] r0.11. All the experiments are carried out on a workstation with an Intel Xeon 8-core CPU (2.8 GHz), 4 Titan X Graphics Cards, and 64GB RAM. Running on 4 GPUs in parallel, training a batch takes about 0.5s. The whole training pro- cess takes less than a day.  5.3. Detecting Oriented English Text  First, we evaluate SegLink on IC15. The pretrained model is finetuned for 10k iterations on the training dataset of IC15. Testing images are resized to 1280 × 768. We set the thresholds on segments and links to 0.9 and 0.7, respec- tively. Performance is evaluated by the official central sub- mission server (http://rrc.cvc.uab.es/?ch=4). In order to meet the requirements on submission format, the output oriented rectangles are converted into quadrilaterals.  Table 1 lists and compares the results of the proposed method and other state-of-the-art methods. Some results are obtained from the online leaderboard. SegLink outperforms the others by a large margin. In terms of f-measure, it out- performs the second best by 10.2%. Considering that some methods have close or even higher precision than SegLink,  http://rrc.cvc.uab.es/?ch=4   Recall=1.0    Precision=0.86    F-Score=0.92 Recall=1.0    Precision=1.0    F-Score=1.0  Recall=1.0    Precision=1.0    F-Score=1.0 Recall=0.88    Precision=0.88    F-Score=0.88  Recall=1.0    Precision=0.88    F-Score=0.93  Recall=1.0    Precision=1.0    F-Score=1.0  Figure 6. Example Results on IC15. Green regions are correctly detected text regions. Red ones are either false positive or false negative. Gray ones are detected but neglected by the evaluation algorithm. Visualizations are generated by the central submission system. Yellow frames contain zoom-in image regions.  Table 1. Results on ICDAR 2015 Incidental Text  Method Precision Recall F-measure HUST MCLAB 47.5 34.8 40.2 NJU Text 72.7 35.8 48.0 StradVision-2 77.5 36.7 49.8 MCLAB FCN [30] 70.8 43.0 53.6 CTPN [22] 51.6 74.2 60.9 Megvii-Image++ 72.4 57.0 63.8 Yao et al. [26] 72.3 58.7 64.8 SegLink 73.1 76.8 75.0  the improvement mainly comes from the recall. As shown in Fig. 6, our method is able to distinguish text from very cluttered backgrounds. In addition, owing to its explicit link prediction, SegLink correctly separates words that are very close to each other.  5.4. Detecting Multi-Lingual Text in Long Lines  We further demonstrate the ability of SegLink to detect long text in non-Latin scripts. TD500 is taken as the dataset for this experiment, as it consists of oriented and multi- lingual text. The training set of TD500 only has 300 im- ages, which are not enough for finetuning our model. We mix the training set of TD500 with the training set of IC15, in the way that every batch has half of its images coming from each dataset. The pretrained model is finetuned for 8k iterations. The testing images are resized to 768×768. The thresholds α and β are set to 0.9 and 0.5 respectively. Per- formance scores are calculated by the official development toolkit.  According to Table 2, SegLink achieves the highest scores in terms of precision and f-measure. Benefiting from its fully-convolutional design, SegLink runs at 8.9 FPS, a  Table 2. Results on MSRA-TD500  Method Precision Recall F-measure FPS Kang et al. [11] 71 62 66 - Yao et al. [25] 63 63 60 0.14 Yin et al. [27] 81 63 74 0.71 Yin et al. [28] 71 61 65 1.25 Zhang et al. [30] 83 67 74 0.48 Yao et al. [26] 77 75 76 ∼1.61 SegLink 86 70 77 8.9  much faster speed than the others. SegLink also enjoys sim- plicity. The inference process of SegLink is a single forward pass in the detection network, while the previous methods [25, 28, 30] involve sophisticated rule-based grouping or fil- tering steps.  TD500 contains many long lines of text in mixed lan- guages (English and Chinese). Fig. 7 shows how SegLink handles such text. As can be seen, segments and links are densely detected along text lines. They result in long bound- ing boxes that are hard to obtain from a conventional ob- ject detector. Despite the large difference in appearance be- tween English and Chinese text, SegLink is able to handle them simultaneously without any modifications in its struc- ture.  5.5. Detecting Horizontal Text  Lastly, we evaluate the performance of SegLink on horizontal-text datasets. The pretrained model is finetuned for 5k iterations on the combined training sets of IC13 and IC15. Since the most text in IC13 has relatively larger sizes, the testing images are resized to 512× 512. The thresholds α and β are set to 0.6 and 0.3, respectively. To match the submission format, we convert the detected oriented boxes    Se gm  en ts   an d  Lin ks  Co m  bi ne  d  Figure 7. Example Results on TD500. The first row shows the detected segments and links. The within-layer and cross-layer links are visualized as red and green lines, respectively. Segments are shown as rectangles in different colors, denoting different connected components. The second row shows the combined boxes.  into their axis-aligned bounding boxes. Table 3 compares SegLink with other state-of-the-art  methods. The scores are calculated by the central sub- mission system using the “Deteval” evaluation protocol. SegLink achieves very competitive results in terms of f- measure. Only one approach [22] outperforms SegLink in terms of f-measure. However, [22] is mainly designed for detecting horizontal text and is not well-suited for oriented text. In terms of speed, SegLink runs at over 20 FPS on 512× 512 images, much faster than the other methods.  Table 3. Results on IC13. P, R, F stand for precision, recall and f-measure respectively. *These methods are only evaluated under the “ICDAR 2013” evaluation protocol, the rest under “Deteval”. The two protocols usually yield very close scores.  Method P R F FPS Neumann et al. [16]∗ 81.8 72.4 77.1 3 Neumann et al. [17]∗ 82.1 71.3 76.3 3 Busta et al. [3]∗ 84.0 69.3 76.8 6 Zhang et al. [29] 88 74 80 <0.1 Zhang et al. [30] 88 78 83 <1 Jaderberg et al. [9] 88.5 67.8 76.8 <1 Gupta et al. [6] 92.0 75.5 83.0 15 Tian et al. [22] 93.0 83.0 87.7 7.1 SegLink 87.7 83.0 85.3 20.6  5.6. Limitations  A major limitation of SegLink is that two thresholds, α and β, need to be set manually. In practice, the optimal values of the thresholds are found by a grid search. Sim- plifying the parameters would be part of our future work. Another weakness is that SegLink fails to detect text that has very large character spacing. Fig. 8.a,b show two such cases. The detected links connect adjacent segments but fail to link distant segments.  (a) (b) (c)  Figure 8. Failure cases on TD500. Red boxes are false posi- tives. (a)(b) SegLink fails to link the characters with large char- acter spacing. (c) SegLink fails to detect curved text.  Fig. 8.c shows that SegLink fails to detect text of curved shape. However, we believe that this is not a limitation of the segment linking strategy, but the segment combination algorithm, which can only produce rectangles currently.  6. Conclusion  We have presented SegLink, a novel text detection strat- egy implemented by a simple and highly-efficient CNN model. The superior performance on horizontal, ori- ented, and multi-lingual text datasets well demonstrate that SegLink is accurate, fast, and flexible. In the future, we will further explore its potentials on detecting deformed text such as curved text. Also, we are interested in extending SegLink into a end-to-end recognition system.  Acknowledgment  This work was supported in part by National Natural Science Foundation of China (61222308 and 61573160), a Google Focused Research Award, AWS Cloud Credits for Research, a Microsoft Research Award and a Facebook equipment donation. The authors also thank China Scholar- ship Council (CSC) for supporting this work.    References [1] M. Abadi, A. Agarwal, P. Barham, E. Brevdo, Z. Chen,  C. Citro, G. S. Corrado, A. Davis, J. Dean, M. Devin, S. Ghe- mawat, I. Goodfellow, A. Harp, G. Irving, M. Isard, Y. Jia, R. Jozefowicz, L. Kaiser, M. Kudlur, J. Levenberg, D. Mané, R. Monga, S. Moore, D. Murray, C. Olah, M. Schuster, J. Shlens, B. Steiner, I. Sutskever, K. Talwar, P. Tucker, V. Vanhoucke, V. Vasudevan, F. Viégas, O. Vinyals, P. War- den, M. Wattenberg, M. Wicke, Y. Yu, and X. Zheng. Tensor- Flow: Large-scale machine learning on heterogeneous sys- tems, 2015. Software available from tensorflow.org. 6  [2] A. Bissacco, M. Cummins, Y. Netzer, and H. Neven. Pho- toocr: Reading text in uncontrolled conditions. In ICCV, 2013. 1, 2  [3] M. Busta, L. Neumann, and J. Matas. Fastext: Efficient un- constrained scene text detector. In ICCV, 2015. 8  [4] R. B. Girshick. Fast R-CNN. In ICCV, 2015. 1, 3, 5 [5] R. B. Girshick, J. Donahue, T. Darrell, and J. Malik. Rich  feature hierarchies for accurate object detection and semantic segmentation. In CVPR, 2014. 1, 3  [6] A. Gupta, A. Vedaldi, and A. Zisserman. Synthetic data for text localisation in natural images. In CVPR, 2016. 1, 2, 6, 8  [7] W. Huang, Z. Lin, J. Yang, and J. Wang. Text localization in natural images using stroke feature transform and text co- variance descriptors. In ICCV, 2013. 2  [8] W. Huang, Y. Qiao, and X. Tang. Robust scene text detection with convolution neural network induced MSER trees. In ECCV, 2014. 2  [9] M. Jaderberg, K. Simonyan, A. Vedaldi, and A. Zisserman. Reading text in the wild with convolutional neural networks. IJCV, 116(1):1–20, 2016. 1, 2, 8  [10] M. Jaderberg, A. Vedaldi, and A. Zisserman. Deep features for text spotting. In ECCV, 2014. 2  [11] L. Kang, Y. Li, and D. S. Doermann. Orientation robust text line detection in natural images. In CVPR, 2014. 7  [12] D. Karatzas, L. Gomez-Bigorda, A. Nicolaou, S. K. Ghosh, A. D. Bagdanov, M. Iwamura, J. Matas, L. Neumann, V. R. Chandrasekhar, S. Lu, F. Shafait, S. Uchida, and E. Val- veny. ICDAR 2015 competition on robust reading. In ICDAR 2015, 2015. 2, 6  [13] D. Karatzas, F. Shafait, S. Uchida, M. Iwamura, L. G. i Big- orda, S. R. Mestre, J. Mas, D. F. Mota, J. Almazán, and L. de las Heras. ICDAR 2013 robust reading competition. In ICDAR 2013, 2013. 6  [14] W. Liu, D. Anguelov, D. Erhan, C. Szegedy, S. E. Reed, C. Fu, and A. C. Berg. SSD: single shot multibox detector. In ECCV, pages 21–37, 2016. 1, 3, 6  [15] J. Long, E. Shelhamer, and T. Darrell. Fully convolutional networks for semantic segmentation. In CVPR, 2015. 1  [16] L. Neumann and J. Matas. Efficient scene text localization and recognition with local character refinement. In ICDAR, 2015. 8  [17] L. Neumann and J. Matas. Real-time lexicon-free scene text localization and recognition. PAMI, 38(9):1872–1885, 2016. 2, 8  [18] J. Redmon, S. K. Divvala, R. B. Girshick, and A. Farhadi. You only look once: Unified, real-time object detection. CoRR, abs/1506.02640, 2015. 3, 6  [19] S. Ren, K. He, R. B. Girshick, and J. Sun. Faster R-CNN: towards real-time object detection with region proposal net- works. In NIPS, 2015. 1, 3  [20] A. Shrivastava, A. Gupta, and R. B. Girshick. Training region-based object detectors with online hard example min- ing. In CVPR, 2016. 6  [21] K. Simonyan and A. Zisserman. Very deep convolu- tional networks for large-scale image recognition. CoRR, abs/1409.1556, 2014. 2, 3  [22] Z. Tian, W. Huang, T. He, P. He, and Y. Qiao. Detecting text in natural image with connectionist text proposal network. In ECCV, 2016. 1, 2, 3, 7, 8  [23] K. Wang and S. J. Belongie. Word spotting in the wild. In ECCV, 2010. 2  [24] T. Wang, D. J. Wu, A. Coates, and A. Y. Ng. End-to-end text recognition with convolutional neural networks. In ICPR, 2012. 2  [25] C. Yao, X. Bai, W. Liu, Y. Ma, and Z. Tu. Detecting texts of arbitrary orientations in natural images. In CVPR, 2012. 1, 2, 6, 7  [26] C. Yao, X. Bai, N. Sang, X. Zhou, S. Zhou, and Z. Cao. Scene text detection via holistic, multi-channel prediction. CoRR, abs/1606.09002, 2016. 2, 3, 7  [27] X. Yin, W. Pei, J. Zhang, and H. Hao. Multi-orientation scene text detection with adaptive clustering. PAMI, 37(9):1930–1937, 2015. 7  [28] X. Yin, X. Yin, K. Huang, and H. Hao. Robust text detection in natural scene images. PAMI, 36(5):970–983, 2014. 7  [29] Z. Zhang, W. Shen, C. Yao, and X. Bai. Symmetry-based text line detection in natural scenes. In CVPR, 2015. 2, 3, 8  [30] Z. Zhang, C. Zhang, W. Shen, C. Yao, W. Liu, and X. Bai. Multi-oriented text detection with fully convolutional net- works. In CVPR, 2016. 1, 2, 3, 7, 8   '"
      ]
     },
     "execution_count": 63,
     "metadata": {},
     "output_type": "execute_result"
    }
   ],
   "source": [
    "safe_text3 = text.replace('\\n', ' ').replace('\\r', '')\n",
    "\n",
    "safe_text3"
   ]
  },
  {
   "cell_type": "code",
   "execution_count": null,
   "metadata": {
    "collapsed": true
   },
   "outputs": [],
   "source": []
  },
  {
   "cell_type": "code",
   "execution_count": null,
   "metadata": {
    "collapsed": true
   },
   "outputs": [],
   "source": []
  },
  {
   "cell_type": "code",
   "execution_count": 65,
   "metadata": {
    "collapsed": true
   },
   "outputs": [],
   "source": [
    "paper_text_list.append(safe_text3)"
   ]
  },
  {
   "cell_type": "code",
   "execution_count": 66,
   "metadata": {},
   "outputs": [
    {
     "name": "stderr",
     "output_type": "stream",
     "text": [
      "/Users/nialdaly/Documents/pwcode_scraping/venv/lib/python3.6/site-packages/ipykernel_launcher.py:4: SettingWithCopyWarning: \n",
      "A value is trying to be set on a copy of a slice from a DataFrame.\n",
      "Try using .loc[row_indexer,col_indexer] = value instead\n",
      "\n",
      "See the caveats in the documentation: http://pandas.pydata.org/pandas-docs/stable/indexing.html#indexing-view-versus-copy\n",
      "  after removing the cwd from sys.path.\n"
     ]
    },
    {
     "data": {
      "text/html": [
       "<div>\n",
       "<style scoped>\n",
       "    .dataframe tbody tr th:only-of-type {\n",
       "        vertical-align: middle;\n",
       "    }\n",
       "\n",
       "    .dataframe tbody tr th {\n",
       "        vertical-align: top;\n",
       "    }\n",
       "\n",
       "    .dataframe thead th {\n",
       "        text-align: right;\n",
       "    }\n",
       "</style>\n",
       "<table border=\"1\" class=\"dataframe\">\n",
       "  <thead>\n",
       "    <tr style=\"text-align: right;\">\n",
       "      <th></th>\n",
       "      <th>dataset</th>\n",
       "      <th>extradata</th>\n",
       "      <th>global_rank</th>\n",
       "      <th>metric_name</th>\n",
       "      <th>metric_value</th>\n",
       "      <th>model</th>\n",
       "      <th>remove</th>\n",
       "      <th>task</th>\n",
       "      <th>paper_title</th>\n",
       "      <th>paper_path</th>\n",
       "      <th>paper_url</th>\n",
       "      <th>paper_text</th>\n",
       "      <th>paper_text2</th>\n",
       "    </tr>\n",
       "  </thead>\n",
       "  <tbody>\n",
       "    <tr>\n",
       "      <th>0</th>\n",
       "      <td>IC15</td>\n",
       "      <td>NaN</td>\n",
       "      <td># 10</td>\n",
       "      <td>F-Measure</td>\n",
       "      <td>75.61%</td>\n",
       "      <td>SegLink</td>\n",
       "      <td>-</td>\n",
       "      <td>Scene Text Detection</td>\n",
       "      <td>Detecting Oriented Text in Natural Images by L...</td>\n",
       "      <td>/paper/detecting-oriented-text-in-natural-imag...</td>\n",
       "      <td>https://arxiv.org/pdf/1703.06520v3.pdf</td>\n",
       "      <td>NaN</td>\n",
       "      <td>...</td>\n",
       "    </tr>\n",
       "  </tbody>\n",
       "</table>\n",
       "</div>"
      ],
      "text/plain": [
       "  dataset  extradata global_rank metric_name metric_value    model remove  \\\n",
       "0    IC15        NaN        # 10   F-Measure       75.61%  SegLink      -   \n",
       "\n",
       "                   task                                        paper_title  \\\n",
       "0  Scene Text Detection  Detecting Oriented Text in Natural Images by L...   \n",
       "\n",
       "                                          paper_path  \\\n",
       "0  /paper/detecting-oriented-text-in-natural-imag...   \n",
       "\n",
       "                                paper_url  paper_text  \\\n",
       "0  https://arxiv.org/pdf/1703.06520v3.pdf         NaN   \n",
       "\n",
       "                                         paper_text2  \n",
       "0                                                ...  "
      ]
     },
     "execution_count": 66,
     "metadata": {},
     "output_type": "execute_result"
    }
   ],
   "source": [
    "#\n",
    "# paper_text_json = json.dumps(paper_text_list)\n",
    "\n",
    "test_df['paper_text2'] = paper_text_list\n",
    "\n",
    "test_df"
   ]
  },
  {
   "cell_type": "code",
   "execution_count": 32,
   "metadata": {
    "collapsed": true
   },
   "outputs": [],
   "source": [
    "# with open('../data/temp.json', 'w') as f:\n",
    "#     f.write(test_df.to_json(orient='records', lines=True))"
   ]
  },
  {
   "cell_type": "code",
   "execution_count": 67,
   "metadata": {
    "collapsed": true
   },
   "outputs": [],
   "source": [
    "test_df.to_json('../data/temp.json', orient='index', lines=False)"
   ]
  },
  {
   "cell_type": "code",
   "execution_count": null,
   "metadata": {
    "collapsed": true
   },
   "outputs": [],
   "source": []
  }
 ],
 "metadata": {
  "kernelspec": {
   "display_name": "pwcode_scraping",
   "language": "python",
   "name": "pwcode_scraping"
  },
  "language_info": {
   "codemirror_mode": {
    "name": "ipython",
    "version": 3
   },
   "file_extension": ".py",
   "mimetype": "text/x-python",
   "name": "python",
   "nbconvert_exporter": "python",
   "pygments_lexer": "ipython3",
   "version": "3.6.4"
  }
 },
 "nbformat": 4,
 "nbformat_minor": 2
}
